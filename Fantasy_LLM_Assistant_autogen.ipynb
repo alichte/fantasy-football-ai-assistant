{
 "cells": [
  {
   "cell_type": "code",
   "execution_count": null,
   "metadata": {},
   "outputs": [],
   "source": [
    "import os \n",
    "from autogen import AssistantAgent, UserProxyAgent\n",
    "from autogen.coding import DockerCommandLineCodeExecutor\n",
    "\n",
    "config_list = [{\"model\": \"gpt-4o-mini\", \"api_key\": os.environ[\"OPENAI_API_KEY\"]}]\n"
   ]
  },
  {
   "cell_type": "code",
   "execution_count": null,
   "metadata": {},
   "outputs": [],
   "source": [
    "from autogen import ConversableAgent\n",
    "\n",
    "assistant = ConversableAgent(\n",
    "    name=\"Assistant\",\n",
    "    system_message=\"You are a helpful AI assistant that is an expert in tool use and in fantasy football. It is long past October of 2023, you need to check the current date to search for current news.\"\n",
    "    \"Return 'TERMINATE' when the task is done.\",\n",
    "    llm_config={\"config_list\": config_list},\n",
    ")"
   ]
  },
  {
   "cell_type": "code",
   "execution_count": null,
   "metadata": {},
   "outputs": [],
   "source": [
    "# The user proxy agent is used for interacting with the assistant agent\n",
    "# and executes tool calls.\n",
    "user_proxy = ConversableAgent(\n",
    "    name=\"User\",\n",
    "    llm_config=False,\n",
    "    is_termination_msg=lambda msg: msg.get(\"content\") is not None and \"TERMINATE\" in msg[\"content\"],\n",
    "    human_input_mode=\"NEVER\",\n",
    ")\n"
   ]
  },
  {
   "cell_type": "code",
   "execution_count": null,
   "metadata": {},
   "outputs": [],
   "source": [
    "from langchain_community.utilities import GoogleSearchAPIWrapper\n",
    "from langchain_core.tools import Tool\n",
    "from autogen import register_function\n",
    "\n",
    "def google_it(query: str) -> str:\n",
    "    \"Search Google for keywords\"\n",
    "    #this is going to assume you have your environment variables set for GOOGLE_API and GOOGLE_CSE\n",
    "    search = GoogleSearchAPIWrapper()\n",
    "\n",
    "    google_search = Tool(\n",
    "        name=\"google_search\",\n",
    "        description=\"Search Google for recent results.\",\n",
    "        func=search.run)\n",
    "    \n",
    "    return google_search({'query': query})\n",
    "\n",
    "register_function(\n",
    "    google_it,\n",
    "    caller=assistant,  # The assistant agent can suggest calls to the calculator.\n",
    "    executor=user_proxy,  # The user proxy agent can execute the calculator calls.\n",
    "    name=\"google_it\",  # By default, the function name is used as the tool name.\n",
    "    description=\"Searches google for recent results using the input as keywords\",  # A description of the tool.\n",
    ")\n"
   ]
  },
  {
   "cell_type": "code",
   "execution_count": null,
   "metadata": {},
   "outputs": [],
   "source": [
    "import os\n",
    "from espn_api.football import League\n",
    "from config import league_team_info\n",
    "#[('work-friends',1234567,7)]\n",
    "from espn_ff_toolkit import get_espn_leagues\n",
    "\n",
    "\n",
    "swid = os.environ['ESPN_SWID']\n",
    "espn_s2 = os.environ['ESPN_S2']\n",
    "\n",
    "year=2023\n",
    "league_dict = get_espn_leagues(league_team_info,year,espn_s2=espn_s2,swid=swid)"
   ]
  },
  {
   "cell_type": "code",
   "execution_count": null,
   "metadata": {},
   "outputs": [],
   "source": [
    "from espn_ff_toolkit import get_rosters, get_free_agents\n",
    "\n",
    "def get_rosters_tool()-> str:\n",
    "    \"Get the rosters for all current leagues\"\n",
    "    return get_rosters(league_dict)\n",
    "\n",
    "register_function(\n",
    "    get_rosters_tool,\n",
    "    caller=assistant,  # The assistant agent can suggest calls to the calculator.\n",
    "    executor=user_proxy,  # The user proxy agent can execute the calculator calls.\n",
    "    description = \"Get the rosters for all current leagues\"\n",
    ")\n",
    "\n",
    "def get_free_agents_tool() -> str:\n",
    "    \"Get the current free agents in all leagues\"\n",
    "    return get_free_agents(league_dict)\n",
    "\n",
    "register_function(\n",
    "    get_free_agents_tool,\n",
    "    caller=assistant,  # The assistant agent can suggest calls to the calculator.\n",
    "    executor=user_proxy,  # The user proxy agent can execute the calculator calls.\n",
    "    description = \"Get the current free agents in all leagues\"\n",
    ")\n"
   ]
  },
  {
   "cell_type": "code",
   "execution_count": null,
   "metadata": {},
   "outputs": [],
   "source": [
    "def get_player_projections(player_name:str) -> str:\n",
    "    \"Get the projected points for a player in the coming week as well as the rest of the season\"\n",
    "    player = gregs_league.player_info(player_name)\n",
    "    try:\n",
    "        return player.stats\n",
    "    except:\n",
    "        return \"player was not valid, try again\"\n",
    "    \n",
    "register_function(\n",
    "    get_player_projections,\n",
    "    caller=assistant,  # The assistant agent can suggest calls to the calculator.\n",
    "    executor=user_proxy,  # The user proxy agent can execute the calculator calls.\n",
    "    description=\"Check ESPN for projections in Greg's league\",  # A description of the tool.\n",
    ")"
   ]
  },
  {
   "cell_type": "code",
   "execution_count": null,
   "metadata": {},
   "outputs": [],
   "source": [
    "from datetime import datetime\n",
    "def get_current_date() -> str:\n",
    "    \"Get the current date, because it is not October 2023\"\n",
    "    current_date = datetime.now()\n",
    "    return str(current_date)\n",
    "\n",
    "register_function(\n",
    "    get_current_date,\n",
    "    caller=assistant,  # The assistant agent can suggest calls to the calculator.\n",
    "    executor=user_proxy,  # The user proxy agent can execute the calculator calls.\n",
    "    description=\"Find out what the current date is\",  # A description of the tool.\n",
    ")"
   ]
  },
  {
   "cell_type": "code",
   "execution_count": null,
   "metadata": {},
   "outputs": [],
   "source": [
    "from autogen.agentchat.contrib.capabilities.text_compressors import LLMLingua\n",
    "from autogen.agentchat.contrib.capabilities.transforms import TextMessageCompressor\n",
    "from autogen.agentchat.contrib.capabilities import transform_messages\n",
    "\n",
    "llm_lingua = LLMLingua()\n",
    "text_compressor = TextMessageCompressor(text_compressor=llm_lingua)\n",
    "context_handling = transform_messages.TransformMessages(transforms=[text_compressor])\n",
    "context_handling.add_to_agent(assistant)"
   ]
  },
  {
   "cell_type": "code",
   "execution_count": null,
   "metadata": {},
   "outputs": [],
   "source": [
    "chat_result = user_proxy.initiate_chat(assistant, message=\"What are my current rosters and are there free agents I should think about picking up?'\")"
   ]
  },
  {
   "cell_type": "code",
   "execution_count": null,
   "metadata": {},
   "outputs": [],
   "source": [
    "from IPython.display import Markdown as md\n",
    "md(chat_result.summary)"
   ]
  },
  {
   "cell_type": "code",
   "execution_count": null,
   "metadata": {},
   "outputs": [],
   "source": []
  }
 ],
 "metadata": {
  "kernelspec": {
   "display_name": "fantasy-llm",
   "language": "python",
   "name": "python3"
  },
  "language_info": {
   "codemirror_mode": {
    "name": "ipython",
    "version": 3
   },
   "file_extension": ".py",
   "mimetype": "text/x-python",
   "name": "python",
   "nbconvert_exporter": "python",
   "pygments_lexer": "ipython3",
   "version": "3.12.4"
  }
 },
 "nbformat": 4,
 "nbformat_minor": 2
}
